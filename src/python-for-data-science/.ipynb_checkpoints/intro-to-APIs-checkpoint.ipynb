{
 "cells": [
  {
   "cell_type": "markdown",
   "metadata": {},
   "source": [
    "# Introduction to Using APIs\n",
    "\n",
    "In this notebook, we will go through a practical example of how to use Python to access an API.\n",
    "For quick demonstration of the concepts, we will use the [Open Notify API](http://open-notify.org). \n",
    "Its an open source project to provide a simple programming interface for some of NASA’s data related\n",
    "space and spacecrafts. Even though this is a toy example, the process of using APIs is similar for any \n",
    "API you will need to access in the future.\n",
    "\n",
    "For this tutorial, the task is to find the latest position of the Internation Space Station(ISS)"
   ]
  },
  {
   "cell_type": "markdown",
   "metadata": {},
   "source": [
    "# Python Setup\n",
    "Lets make sure we import the required libraries"
   ]
  },
  {
   "cell_type": "code",
   "execution_count": null,
   "metadata": {},
   "outputs": [],
   "source": [
    "import requests\n",
    "from matplotlib.pyplot import figure\n",
    "import matplotlib.pyplot as plt\n",
    "import pandas as pd"
   ]
  },
  {
   "cell_type": "markdown",
   "metadata": {},
   "source": [
    "# Understanding The API\n",
    "As mentioned during the introductory lecture, its important to read the API documentation \n",
    "and understand the available **endpoints**. Also, to determine the exact endpoint for the data we are interested in getting.\n",
    "- **Base URL:** For this API, the base url is: ```http://api.open-notify.org```. So, our full url which we will pass to requests will be ```base-url + endpoint```\n",
    "- **Available Endpoints/Data:** You can check [here](http://open-notify.org/Open-Notify-API/) for avaible endpoints\n",
    "- **Target Endpoint:** For our task, the endpoint is ```iss-now.json```"
   ]
  },
  {
   "cell_type": "markdown",
   "metadata": {},
   "source": [
    "# Making the Request\n",
    "Now, lets request for the data. We create a simple function which makes the requests \n",
    "and prints the status code to see if we got a good result."
   ]
  },
  {
   "cell_type": "code",
   "execution_count": null,
   "metadata": {},
   "outputs": [],
   "source": [
    "base_url = 'http://api.open-notify.org/'"
   ]
  },
  {
   "cell_type": "code",
   "execution_count": null,
   "metadata": {},
   "outputs": [],
   "source": [
    "#endpoint for current position of ISS\n",
    "pos_now = 'iss-now.json'"
   ]
  },
  {
   "cell_type": "code",
   "execution_count": null,
   "metadata": {},
   "outputs": [],
   "source": [
    "# Full url\n",
    "full_url = base_url + pos_now\n",
    "full_url"
   ]
  },
  {
   "cell_type": "code",
   "execution_count": null,
   "metadata": {},
   "outputs": [],
   "source": [
    "# Make a request using requests package\n",
    "response = requests.get(full_url)"
   ]
  },
  {
   "cell_type": "code",
   "execution_count": null,
   "metadata": {},
   "outputs": [],
   "source": [
    "# Get the data\n",
    "dict_obj_from_json = response.json()\n",
    "type(dict_obj_from_json)\n",
    "print(dict_obj_from_json)"
   ]
  },
  {
   "cell_type": "code",
   "execution_count": null,
   "metadata": {},
   "outputs": [],
   "source": [
    "geo_info = dict_obj_from_json['iss_position']\n",
    "geo_info"
   ]
  },
  {
   "cell_type": "code",
   "execution_count": null,
   "metadata": {},
   "outputs": [],
   "source": [
    "lon = geo_info['longitude']\n",
    "print(lon)\n",
    "lat = geo_info['latitude']\n",
    "print(lat)"
   ]
  },
  {
   "cell_type": "code",
   "execution_count": null,
   "metadata": {},
   "outputs": [],
   "source": [
    "geo_info = dict_obj_from_json['iss_position']\n",
    "lon = geo_info['longitude']\n",
    "lat = geo_info['latitude']\n",
    "print(lat,'--', lon)"
   ]
  },
  {
   "cell_type": "code",
   "execution_count": null,
   "metadata": {},
   "outputs": [],
   "source": [
    "base_url = 'http://api.open-notify.org/'\n",
    "#endpoint for current position of ISS\n",
    "pos_now = \n",
    "# Full url\n",
    "full_url = base_url + pos_now\n",
    "\n",
    "\n",
    "# Make a request using requests package\n",
    "r = requests.get(full_url)\n",
    "\n",
    "# Get the data\n",
    "dict_obj_from_json = r.json()\n",
    "\n",
    "# Extract Lat/Lon\n",
    "geo_info = dict_obj_from_json['iss_position']\n",
    "lon = geo_info['longitude']\n",
    "lat = geo_info['latitude']\n",
    "print(lat,'--', lon)"
   ]
  },
  {
   "cell_type": "code",
   "execution_count": null,
   "metadata": {},
   "outputs": [],
   "source": [
    "{\"timestamp\": 1552482996, \"iss_position\": {\"longitude\": \"57.7156\", \"latitude\": \"-43.5913\"}, \"message\": \"success\"}"
   ]
  },
  {
   "cell_type": "code",
   "execution_count": null,
   "metadata": {
    "code_folding": []
   },
   "outputs": [],
   "source": [
    "def request_iss_position(endpoint_url=None):\n",
    "    # Make a get request \n",
    "    response = requests.get(endpoint_url)\n",
    "\n",
    "    # Print the status code of the response.\n",
    "    status_code = response.status_code\n",
    "    if status_code == 200:\n",
    "        print('Hooray!!, it worked')\n",
    "        \n",
    "        # access the returned data\n",
    "        dict_obj_from_json = response.json()\n",
    "        print('Type: {}'.format(type(dict_obj_from_json)))\n",
    "        print('This is the nested dictionary returned: \\n {}'.format(dict_obj_from_json))\n",
    "        lat = dict_obj_from_json['iss_position']['latitude']\n",
    "        lon = dict_obj_from_json['iss_position']['longitude']\n",
    "        print('ISS is passing on Lat: {}, and Lon: {} right about now'.format(lat, lon))\n",
    "    else:\n",
    "        print('What happened, lets see the code we got: {}'.format(status_code))\n",
    "    "
   ]
  },
  {
   "cell_type": "code",
   "execution_count": null,
   "metadata": {},
   "outputs": [],
   "source": [
    "base_url = 'http://api.open-notify.org/'\n",
    "iss_pos = base_url + 'iss-now.json'\n",
    "request_iss_position(endpoint_url=iss_pos)"
   ]
  },
  {
   "cell_type": "code",
   "execution_count": null,
   "metadata": {},
   "outputs": [],
   "source": [
    "# Now, try to enter a wrong endpoint and see what happens\n",
    "iss_pos2 = base_url + 'iss-today.json'\n",
    "request_iss_position(endpoint_url=iss_pos2)"
   ]
  },
  {
   "cell_type": "markdown",
   "metadata": {},
   "source": [
    "# Accessing the Data\n",
    "Now, lets change our function so that we print the Latitude and Longitude of where ISS is right now."
   ]
  },
  {
   "cell_type": "code",
   "execution_count": null,
   "metadata": {},
   "outputs": [],
   "source": [
    "request_iss_position(endpoint_url=iss_pos)"
   ]
  },
  {
   "cell_type": "markdown",
   "metadata": {},
   "source": [
    "# EXERCISE-1:\n",
    "Using the same API, check how many Astronouts are in space right now?"
   ]
  },
  {
   "cell_type": "code",
   "execution_count": null,
   "metadata": {
    "code_folding": []
   },
   "outputs": [],
   "source": [
    "# base-url is same as above\n",
    "\n",
    "\n",
    "# end point for this data: please check documentation\n",
    "num_astros = YOUR CODE\n",
    "\n",
    "# full_url number of astronouts\n",
    "num_astros_url = YOUR CODE\n",
    "\n",
    "# Make request\n",
    "response = YOUR CODE\n",
    "\n",
    "# Get data if response is 200\n",
    "if response.status_code == 200:\n",
    "    # Extract the dict object from the JSON response\n",
    "    res = YOUR CODE\n",
    "    \n",
    "    # please print the dict object above so you can inspect it and see how to retrieve the required data\n",
    "    YOUR CODE\n",
    "    \n",
    "    # Get the number of people in spacw\n",
    "    num_people = YOUR CODE\n",
    "    \n",
    "    # print number of people\n",
    "    print()\n",
    "    print('They are {} Astrnouts in Space right now'.format())"
   ]
  },
  {
   "cell_type": "code",
   "execution_count": null,
   "metadata": {
    "code_folding": [
     0
    ]
   },
   "outputs": [],
   "source": [
    "def get_weather(api_key=None, city_id=None):\n",
    "    \"\"\"\n",
    "    Returns weather\n",
    "    :param api_key:\n",
    "    :param city_name:\n",
    "    :return:\n",
    "    \"\"\"\n",
    "    # add your API key\n",
    "    url = \"http://api.openweathermap.org/data/2.5/forecast?id={}&APPID={}\".format(city_id, api_key)\n",
    "\n",
    "    # use requests to retrieve data from the API\n",
    "    response = requests.get(url)\n",
    "\n",
    "    # retrieve JSON from the response object\n",
    "    json_obj = response.json()\n",
    "\n",
    "    # return the JSON object\n",
    "    return json_obj"
   ]
  },
  {
   "cell_type": "code",
   "execution_count": null,
   "metadata": {},
   "outputs": [],
   "source": [
    "city_details = \"../../day2-python-for-data-science/data/city.list.json\"\n",
    "API_KEY = 'cd689df7ce5a01db2aafde528e3d87c4'\n",
    "city_name = \"Région de Dakar\""
   ]
  },
  {
   "cell_type": "code",
   "execution_count": null,
   "metadata": {},
   "outputs": [],
   "source": [
    "# get city id\n",
    "import json\n",
    "\n",
    "fopen = open(city_details)\n",
    "city_list = json.load(fopen)"
   ]
  },
  {
   "cell_type": "code",
   "execution_count": null,
   "metadata": {},
   "outputs": [],
   "source": [
    "for c in city_list:\n",
    "    if c['name'] == city_name:\n",
    "       city_id = c['id'] "
   ]
  },
  {
   "cell_type": "code",
   "execution_count": null,
   "metadata": {},
   "outputs": [],
   "source": [
    "dakar_weather = get_weather(api_key=API_KEY, city_id=city_id)"
   ]
  },
  {
   "cell_type": "code",
   "execution_count": null,
   "metadata": {},
   "outputs": [],
   "source": [
    "d1 = dakar_weather['list'][0]\n",
    "d1"
   ]
  },
  {
   "cell_type": "markdown",
   "metadata": {},
   "source": [
    "# Pulling Data World Bank Development Indicators API\n",
    "We're using Pandas Datareader: a third-party library that makes it easy to pull data from APIs into a Pandas dataframe.\n",
    "\n",
    "Use it to pull live data from Yahoo! Finance, World Bank and others.\n",
    "\n",
    "\n",
    "| Function | Task Performed |\n",
    "|----|---|\n",
    "| wb.get_countries()  | List available countries, with their country codes, income levels etc. |\n",
    "| wb.search()  | Query the available indicators using a search term. |\n",
    "| wb.WorldBankReader()  | A class for downloading data series. |"
   ]
  },
  {
   "cell_type": "markdown",
   "metadata": {},
   "source": [
    "## Installing Pandas Datareader\n",
    "Use the terminal to install the package pandas_datareader like so: \n",
    "```pip3 install pandas_datareader```"
   ]
  },
  {
   "cell_type": "code",
   "execution_count": null,
   "metadata": {},
   "outputs": [],
   "source": [
    "# Lets import World Bank module (wb) from pandas_datareader\n",
    "from pandas_datareader import wb"
   ]
  },
  {
   "cell_type": "code",
   "execution_count": null,
   "metadata": {},
   "outputs": [],
   "source": [
    "wb.WorldBankReader?"
   ]
  },
  {
   "cell_type": "markdown",
   "metadata": {},
   "source": [
    "## List of Indicators\n",
    "See [here](http://datatopics.worldbank.org/world-development-indicators/themes/people.html)"
   ]
  },
  {
   "cell_type": "code",
   "execution_count": null,
   "metadata": {},
   "outputs": [],
   "source": [
    "# Find the GNI per capita indicator, get its ID number\n",
    "indicator_name = \"GNI per capita, Atlas\"\n",
    "result = wb.search(string=indicator_name, field = 'name')\n",
    "result"
   ]
  },
  {
   "cell_type": "code",
   "execution_count": null,
   "metadata": {},
   "outputs": [],
   "source": [
    "# Make a note of the indicator ID\n",
    "GNI_ID = 'NY.GNP.PCAP.CD'"
   ]
  },
  {
   "cell_type": "code",
   "execution_count": null,
   "metadata": {},
   "outputs": [],
   "source": [
    "# Get a list of countries and clean it up\n",
    "countries = wb.get_countries()\n",
    "countries.head()"
   ]
  },
  {
   "cell_type": "code",
   "execution_count": null,
   "metadata": {},
   "outputs": [],
   "source": [
    "#Select only those observations and columns we need: \n",
    "countries2 = countries[countries.incomeLevel != 'Aggregates']"
   ]
  },
  {
   "cell_type": "code",
   "execution_count": null,
   "metadata": {},
   "outputs": [],
   "source": [
    "countries3 = countries2[['name', 'iso3c','incomeLevel']]\n",
    "countries3.head()"
   ]
  },
  {
   "cell_type": "code",
   "execution_count": null,
   "metadata": {},
   "outputs": [],
   "source": [
    "OECD_founders = ['Belgium','France','Germany','Italy','Luxembourg','Netherlands','United States',\n",
    "                'Canada','Japan']\n"
   ]
  },
  {
   "cell_type": "code",
   "execution_count": null,
   "metadata": {},
   "outputs": [],
   "source": [
    "countries4 = countries3[countries3.name.isin(OECD_founders)]"
   ]
  },
  {
   "cell_type": "code",
   "execution_count": null,
   "metadata": {},
   "outputs": [],
   "source": [
    "countries4.name.unique()"
   ]
  },
  {
   "cell_type": "code",
   "execution_count": null,
   "metadata": {},
   "outputs": [],
   "source": [
    "type(countries4)"
   ]
  },
  {
   "cell_type": "code",
   "execution_count": null,
   "metadata": {},
   "outputs": [],
   "source": [
    "countries_iso = list(countries4.iso3c.values)\n",
    "countries_iso"
   ]
  },
  {
   "cell_type": "code",
   "execution_count": null,
   "metadata": {},
   "outputs": [],
   "source": [
    "# Let's plot GNI per capita since 1960 for the OECD countries\n",
    "\n",
    "\n",
    "# Create a reader object, pass it the data ID and country codes we want\n",
    "\n",
    "reader = wb.WorldBankReader(symbols=GNI_ID,\n",
    "                            countries = countries_iso,\n",
    "                            start=1960)\n",
    "GNI_capita = reader.read()\n",
    "GNI_capita.head()"
   ]
  },
  {
   "cell_type": "code",
   "execution_count": null,
   "metadata": {},
   "outputs": [],
   "source": [
    "GNI_capita = GNI_capita.unstack(level=0)[GNI_ID]\n",
    "GNI_capita.head()\n",
    "\n",
    "GNI_capita.plot(figsize=[8,6])\n",
    "plt.title('GNI per capita for OECD founders since 1960')"
   ]
  },
  {
   "cell_type": "markdown",
   "metadata": {},
   "source": [
    "# EXERCISE-2: Using WDI API\n",
    "You going to generate a table of population for each country in Africa. "
   ]
  },
  {
   "cell_type": "markdown",
   "metadata": {},
   "source": [
    "## Get indicator name and identify indicator id/code\n",
    "Use the website [here](http://datatopics.worldbank.org/world-development-indicators/themes/people.html) \n",
    "to get indicator name for total population."
   ]
  },
  {
   "cell_type": "code",
   "execution_count": null,
   "metadata": {},
   "outputs": [],
   "source": [
    "indicator_id = YOUR CODE HERE"
   ]
  },
  {
   "cell_type": "markdown",
   "metadata": {},
   "source": [
    "## Get ISO codes for African Countries\n",
    "In the data folder, there is a CSV file ```country_codes_africa.csv```. We will use pandas to read the file and extract country names and use them to generate a list of ISO codes for African countries."
   ]
  },
  {
   "cell_type": "code",
   "execution_count": null,
   "metadata": {},
   "outputs": [],
   "source": [
    "# Get ISO codes for African Countries\n",
    "iso_codes_file = YOUR CODE HERE\n",
    "\n",
    "# Read CSV into dataframe\n",
    "df_iso = YOUR CODE HERE\n",
    "\n",
    "# Check the dataframe using the head function\n",
    "\n",
    "# Put the ISO codes into a list\n",
    "countries = wb.get_countries()\n",
    "names = list(df_iso.NAME_0.values)\n",
    "afr_iso = countries.iso3c[countries.name.isin(names)]"
   ]
  },
  {
   "cell_type": "markdown",
   "metadata": {},
   "source": [
    "## Get the Population Data for  2010\n",
    "Please use the documentation for the function ```wb.WorldBankReader``` \n",
    "to understand how to use the parameters ```start``` and ```end``` to get data for 2010 only."
   ]
  },
  {
   "cell_type": "code",
   "execution_count": null,
   "metadata": {},
   "outputs": [],
   "source": [
    "reader = wb.WorldBankReader(symbols=,\n",
    "                            countries = countries_iso,\n",
    "                            start=1960)\n",
    "pop = YOUR CODE HERE\n",
    "pop = pop.reset_index()\n",
    "\n",
    "# display the first 10 rows of the dataframe\n",
    "YOUR CODE HERE\n",
    "\n",
    "# Rename the SP.POP.TOTL column. Check pandas documentation \n",
    "# to see how you can rename a column\n",
    "YOUR CODE HERE"
   ]
  },
  {
   "cell_type": "markdown",
   "metadata": {},
   "source": [
    "## Which Country Has The Largest Population in Africa? \n",
    "Please use this method ```max(list)``` to find the country with the largest population.\n",
    "**Hint:** first put the population into a list and then use the method above."
   ]
  },
  {
   "cell_type": "markdown",
   "metadata": {},
   "source": [
    "Please answer the same question above this time using a method \n",
    "provided by pandas. Check pandas documentation on how to find a maximum value for a column"
   ]
  },
  {
   "cell_type": "code",
   "execution_count": null,
   "metadata": {},
   "outputs": [],
   "source": []
  }
 ],
 "metadata": {
  "kernelspec": {
   "display_name": "Python 3",
   "language": "python",
   "name": "python3"
  },
  "language_info": {
   "codemirror_mode": {
    "name": "ipython",
    "version": 3
   },
   "file_extension": ".py",
   "mimetype": "text/x-python",
   "name": "python",
   "nbconvert_exporter": "python",
   "pygments_lexer": "ipython3",
   "version": "3.6.5"
  },
  "toc": {
   "base_numbering": 1,
   "nav_menu": {},
   "number_sections": false,
   "sideBar": true,
   "skip_h1_title": false,
   "title_cell": "Table of Contents",
   "title_sidebar": "Contents",
   "toc_cell": false,
   "toc_position": {},
   "toc_section_display": true,
   "toc_window_display": false
  }
 },
 "nbformat": 4,
 "nbformat_minor": 2
}
