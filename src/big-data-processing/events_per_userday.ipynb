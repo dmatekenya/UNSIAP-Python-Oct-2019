{
 "cells": [
  {
   "cell_type": "markdown",
   "metadata": {},
   "source": [
    "# ESTIMATE AVERAGE NUMBER OF EVENTS PER USER PER DAY"
   ]
  },
  {
   "cell_type": "markdown",
   "metadata": {},
   "source": [
    "## Introduction\nIts important to know on average how many events each user generates because this has a direct bearing on the accuracy of our analysis. Also, it has implications in preprocessing stages of the analysis.\nFor example, we will ikely drop some users from the analysis as follows:\n1. Users with small number of events per day because it will be hard to determine trips from those kind of users. The exact threshold will be determine at a later stage\n2. Users with too many events as these may indicate that those numbers arent used for personal use but rather for business"
   ]
  },
  {
   "cell_type": "code",
   "execution_count": 3,
   "metadata": {},
   "outputs": [
    {
     "data": {
      "text/html": [
       "<style scoped>\n  .ansiout {\n    display: block;\n    unicode-bidi: embed;\n    white-space: pre-wrap;\n    word-wrap: break-word;\n    word-break: break-all;\n    font-family: \"Source Code Pro\", \"Menlo\", monospace;;\n    font-size: 13px;\n    color: #555;\n    margin-left: 4px;\n    line-height: 19px;\n  }\n</style>\n<div class=\"ansiout\"></div>"
      ]
     },
     "metadata": {},
     "output_type": "execute_result"
    }
   ],
   "source": [
    "import os\n",
    "from datetime import datetime\n",
    "import pandas as pd\n",
    "import numpy as np\n",
    "from pyspark.sql.types import Row\n",
    "from pyspark.sql.types import IntegerType, DateType, TimestampType, StringType\n",
    "from pyspark.sql.functions import collect_set, from_unixtime, unix_timestamp, col, udf, datediff, count"
   ]
  },
  {
   "cell_type": "code",
   "execution_count": 4,
   "metadata": {},
   "outputs": [
    {
     "data": {
      "text/html": [
       "<style scoped>\n  .ansiout {\n    display: block;\n    unicode-bidi: embed;\n    white-space: pre-wrap;\n    word-wrap: break-word;\n    word-break: break-all;\n    font-family: \"Source Code Pro\", \"Menlo\", monospace;;\n    font-size: 13px;\n    color: #555;\n    margin-left: 4px;\n    line-height: 19px;\n  }\n</style>\n<div class=\"ansiout\"><span class=\"ansired\">Out[</span><span class=\"ansired\">6</span><span class=\"ansired\">]: </span>&lt;method-wrapper &apos;__str__&apos; of function object at 0x7f93a5b6d620&gt;\n</div>"
      ]
     },
     "metadata": {},
     "output_type": "execute_result"
    }
   ],
   "source": [
    "col.__str__\n"
   ]
  },
  {
   "cell_type": "code",
   "execution_count": 5,
   "metadata": {},
   "outputs": [],
   "source": [
    "col."
   ]
  },
  {
   "cell_type": "markdown",
   "metadata": {},
   "source": [
    "## Processing environment setup"
   ]
  },
  {
   "cell_type": "code",
   "execution_count": 7,
   "metadata": {},
   "outputs": [
    {
     "data": {
      "text/html": [
       "<style scoped>\n  .ansiout {\n    display: block;\n    unicode-bidi: embed;\n    white-space: pre-wrap;\n    word-wrap: break-word;\n    word-break: break-all;\n    font-family: \"Source Code Pro\", \"Menlo\", monospace;;\n    font-size: 13px;\n    color: #555;\n    margin-left: 4px;\n    line-height: 19px;\n  }\n</style>\n<div class=\"ansiout\"></div>"
      ]
     },
     "metadata": {},
     "output_type": "execute_result"
    }
   ],
   "source": [
    "# Replace with your values\n",
    "# NOTE: Set the access to this notebook appropriately to protect the security of your keys.\n",
    "# Or you can delete this cell after you run the mount command below once successfully.\n",
    "#YOUR_STORAGE_ACCOUNT_NAME = \"REPLACE_WITH_YOUR_AZURE_BLOB\"\n",
    "STORAGE_ACCOUNT_NAME = \"c344850\"\n",
    "#YOUR_CONTAINER_NAME = \"REPLACE_WITH_YOUR_AZURE_CONTAINER\"\n",
    "CONTAINER_NAME = \"freetown-sampledata\"\n",
    "#MOUNT_NAME = \"REPLACE_WITH_YOUR_MOUNT_NAME\"\n",
    "MOUNT_NAME = \"sample\"\n",
    "\n",
    "#ACCESS_KEY = \"fs.azure.account.key.YOUR_STORAGE_ACCOUNT_NAME.blob.core.windows.net\"\n",
    "ACCESS_KEY = \"fs.azure.account.key.{}.blob.core.windows.net\".format(STORAGE_ACCOUNT_NAME)\n",
    "#SECRET_KEY = \"REPLACE_WITH_YOUR_SECRET_KEY\"\n",
    "SECRET_KEY = \"kbqBQVOcEz7Jz30wCCVI/JzYwfjG9+6s0A6rsakRInSyj/UP9wpfxeLgzkHMevbonM5u9XhcqsgDY+j95hQdCw==\""
   ]
  },
  {
   "cell_type": "code",
   "execution_count": 8,
   "metadata": {},
   "outputs": [
    {
     "data": {
      "text/html": [
       "<style scoped>\n  .ansiout {\n    display: block;\n    unicode-bidi: embed;\n    white-space: pre-wrap;\n    word-wrap: break-word;\n    word-break: break-all;\n    font-family: \"Source Code Pro\", \"Menlo\", monospace;;\n    font-size: 13px;\n    color: #555;\n    margin-left: 4px;\n    line-height: 19px;\n  }\n</style>\n<div class=\"ansiout\"></div>"
      ]
     },
     "metadata": {},
     "output_type": "execute_result"
    }
   ],
   "source": [
    "def mount_folder_from_azure_blob(storage_acc_name=None, container_name=None, \n",
    "                                 dirname=None, mnt_name=None, access_key=None, secret_key=None):\n",
    "  \n",
    "  \"\"\"\n",
    "  Utility function to mount a folder from Azure Blob storage\n",
    "  \"\"\"\n",
    "  configs = {access_key: secret_key}\n",
    "  result = dbutils.fs.mount(\n",
    "              source = \"wasbs://{}@{}.blob.core.windows.net/{}\".format(container_name, storage_acc_name, dirname),\n",
    "              mount_point = \"/mnt/{}\".format(mnt_name),\n",
    "              extra_configs = configs)\n",
    "  \n",
    "  return result\n",
    "  "
   ]
  },
  {
   "cell_type": "code",
   "execution_count": 9,
   "metadata": {},
   "outputs": [
    {
     "data": {
      "text/html": [
       "<style scoped>\n  .ansiout {\n    display: block;\n    unicode-bidi: embed;\n    white-space: pre-wrap;\n    word-wrap: break-word;\n    word-break: break-all;\n    font-family: \"Source Code Pro\", \"Menlo\", monospace;;\n    font-size: 13px;\n    color: #555;\n    margin-left: 4px;\n    line-height: 19px;\n  }\n</style>\n<div class=\"ansiout\"></div>"
      ]
     },
     "metadata": {},
     "output_type": "execute_result"
    }
   ],
   "source": [
    "def check_if_mounted(mount_name=None):\n",
    "  \"\"\"\n",
    "  Checks if required folder is arleady mounted\n",
    "  \"\"\"\n",
    "  mnt_res = dbutils.fs.mounts()\n",
    "  for r in mnt_res:\n",
    "    mnt_name = r.mountPoint.split('/')[-1]\n",
    "    if mnt_name == mount_name:\n",
    "      print('Arleady mounted')\n",
    "      return\n",
    "    else:\n",
    "      if mount_folder_from_azure_blob(storage_acc_name=STORAGE_ACCOUNT_NAME, container_name=CONTAINER_NAME, mnt_name=MOUNT_NAME, secret_key=SECRET_KEY, access_key=ACCESS_KEY):\n",
    "        print('Successfully mounted')\n",
    "  "
   ]
  },
  {
   "cell_type": "markdown",
   "metadata": {},
   "source": [
    "## Read in Data"
   ]
  },
  {
   "cell_type": "code",
   "execution_count": 11,
   "metadata": {},
   "outputs": [
    {
     "data": {
      "text/html": [
       "<style scoped>\n  .ansiout {\n    display: block;\n    unicode-bidi: embed;\n    white-space: pre-wrap;\n    word-wrap: break-word;\n    word-break: break-all;\n    font-family: \"Source Code Pro\", \"Menlo\", monospace;;\n    font-size: 13px;\n    color: #555;\n    margin-left: 4px;\n    line-height: 19px;\n  }\n</style>\n<div class=\"ansiout\"></div>"
      ]
     },
     "metadata": {},
     "output_type": "execute_result"
    }
   ],
   "source": [
    "# Read data as Spark Dataframe\n",
    "file_name = 'africell_first_sample.csv'\n",
    "df = spark.read.format(\"csv\").option(\"header\", \"true\").option(\"mode\", \"DROPMALFORMED\").load(\"/mnt/sample/{}\".format(file_name))"
   ]
  },
  {
   "cell_type": "markdown",
   "metadata": {},
   "source": [
    "#### add datetime"
   ]
  },
  {
   "cell_type": "code",
   "execution_count": 13,
   "metadata": {},
   "outputs": [
    {
     "data": {
      "text/html": [
       "<style scoped>\n  .ansiout {\n    display: block;\n    unicode-bidi: embed;\n    white-space: pre-wrap;\n    word-wrap: break-word;\n    word-break: break-all;\n    font-family: \"Source Code Pro\", \"Menlo\", monospace;;\n    font-size: 13px;\n    color: #555;\n    margin-left: 4px;\n    line-height: 19px;\n  }\n</style>\n<div class=\"ansiout\"></div>"
      ]
     },
     "metadata": {},
     "output_type": "execute_result"
    }
   ],
   "source": [
    "# Spark function to add date\n",
    "add_datetime =  udf (lambda x: datetime.strptime(x, '%Y%m%d%H%M%S'), TimestampType())"
   ]
  },
  {
   "cell_type": "code",
   "execution_count": 14,
   "metadata": {},
   "outputs": [
    {
     "data": {
      "text/html": [
       "<style scoped>\n  .ansiout {\n    display: block;\n    unicode-bidi: embed;\n    white-space: pre-wrap;\n    word-wrap: break-word;\n    word-break: break-all;\n    font-family: \"Source Code Pro\", \"Menlo\", monospace;;\n    font-size: 13px;\n    color: #555;\n    margin-left: 4px;\n    line-height: 19px;\n  }\n</style>\n<div class=\"ansiout\"></div>"
      ]
     },
     "metadata": {},
     "output_type": "execute_result"
    }
   ],
   "source": [
    "def find_num_of_days(df=None, time_col=None):\n",
    "  \"\"\"\n",
    "  Assumes we have a Spark TimestampType - time_col\n",
    "  \"\"\"\n",
    "  \n",
    "  df_sorted_asc = df.sort(time_col, ascending=True)\n",
    "  start = df_sorted_asc.first()\n",
    "  df_sorted_desc = df.sort(time_col, ascending=False)\n",
    "  end = df_sorted_desc.first()\n",
    "  num_dys = (end.datetime - start.datetime).days\n",
    "  \n",
    "  return num_dys"
   ]
  },
  {
   "cell_type": "markdown",
   "metadata": {},
   "source": [
    "## Lets determine what kind of events we have in the data"
   ]
  },
  {
   "cell_type": "code",
   "execution_count": 16,
   "metadata": {},
   "outputs": [
    {
     "data": {
      "text/html": [
       "<style scoped>\n  .ansiout {\n    display: block;\n    unicode-bidi: embed;\n    white-space: pre-wrap;\n    word-wrap: break-word;\n    word-break: break-all;\n    font-family: \"Source Code Pro\", \"Menlo\", monospace;;\n    font-size: 13px;\n    color: #555;\n    margin-left: 4px;\n    line-height: 19px;\n  }\n</style>\n<div class=\"ansiout\">+-----------------+\n         cdr_type|\n+-----------------+\n      MtSMSRecord|\n    TransitRecord|\n     MtCallRecord|\n     MoCallRecord|\n    RoamingRecord|\n      MoSMSRecord|\nForwardCallRecord|\n OutGatewayRecord|\n IncGatewayRecord|\n+-----------------+\n\n</div>"
      ]
     },
     "metadata": {},
     "output_type": "execute_result"
    }
   ],
   "source": [
    "df.select('cdr_type').distinct().show()"
   ]
  },
  {
   "cell_type": "markdown",
   "metadata": {},
   "source": [
    "Here is an attempt to describe what eacch type of event means. It doesnt seem like we need all these CDR types. Some of the data may be repetitive.\nSome terminology to know about:\nSMC- Short Message Centre\n1. MtSMSRecord: For now I just assume this pertains to SMS\n2. TransitRecord:\n3. MtCallRecord: \n4. MoCallRecord: Mobile generated call record due to outgoing call attempt.\n5. RoamingRecord: Roaming call attempt\n6. MoSMSRecord: \n\n##### Skip this part for now andcome back to it later"
   ]
  },
  {
   "cell_type": "markdown",
   "metadata": {},
   "source": [
    "#### Add user id : we use anonymised calling IMEI as user_id. We could also use phone number"
   ]
  },
  {
   "cell_type": "code",
   "execution_count": 19,
   "metadata": {},
   "outputs": [
    {
     "data": {
      "text/html": [
       "<style scoped>\n  .ansiout {\n    display: block;\n    unicode-bidi: embed;\n    white-space: pre-wrap;\n    word-wrap: break-word;\n    word-break: break-all;\n    font-family: \"Source Code Pro\", \"Menlo\", monospace;;\n    font-size: 13px;\n    color: #555;\n    margin-left: 4px;\n    line-height: 19px;\n  }\n</style>\n<div class=\"ansiout\"></div>"
      ]
     },
     "metadata": {},
     "output_type": "execute_result"
    }
   ],
   "source": [
    "df2 = df.withColumn('datetime', add_datetime(col('cdr_datetime')))"
   ]
  },
  {
   "cell_type": "code",
   "execution_count": 20,
   "metadata": {},
   "outputs": [
    {
     "data": {
      "text/html": [
       "<style scoped>\n  .ansiout {\n    display: block;\n    unicode-bidi: embed;\n    white-space: pre-wrap;\n    word-wrap: break-word;\n    word-break: break-all;\n    font-family: \"Source Code Pro\", \"Menlo\", monospace;;\n    font-size: 13px;\n    color: #555;\n    margin-left: 4px;\n    line-height: 19px;\n  }\n</style>\n<div class=\"ansiout\"></div>"
      ]
     },
     "metadata": {},
     "output_type": "execute_result"
    }
   ],
   "source": [
    "def calculate_crude_avg_events_per_day(exclude_events=None, df=None, outcol=None, uid_col=None, numdays=None):\n",
    "  \"\"\"\n",
    "  For each user, sum all events in the dataset and divide by the total number of days in the dataset.\n",
    "  In other cases, we may want to do this on a day by day basis\n",
    "  :param exclude_events: exclude some events (e.g., roaming)\n",
    "  :param outcol : Name of column from this\n",
    "  \"\"\"\n",
    "  if not numdays:\n",
    "    numdays = find_num_of_days(df=df, time_col='datetime')\n",
    "  \n",
    "  if not exclude_events:\n",
    "    # count all cdr-types\n",
    "    dfgrp_uid = df.groupBy(uid_col).agg(count(df.cdr_type))\n",
    "    dfout = dfgrp_uid.withColumnRenamed(\"count(cdr_type)\", 'events_count')\n",
    "    print(dfout.columns)\n",
    "    dfout2 = dfout.withColumn(outcol, dfout.events_count/numdays)\n",
    " \n",
    "\n",
    "  return dfout2"
   ]
  },
  {
   "cell_type": "code",
   "execution_count": 21,
   "metadata": {},
   "outputs": [
    {
     "data": {
      "text/html": [
       "<style scoped>\n  .ansiout {\n    display: block;\n    unicode-bidi: embed;\n    white-space: pre-wrap;\n    word-wrap: break-word;\n    word-break: break-all;\n    font-family: \"Source Code Pro\", \"Menlo\", monospace;;\n    font-size: 13px;\n    color: #555;\n    margin-left: 4px;\n    line-height: 19px;\n  }\n</style>\n<div class=\"ansiout\">[&apos;userid&apos;, &apos;events_count&apos;]\n<span class=\"ansired\">Out[</span><span class=\"ansired\">77</span><span class=\"ansired\">]: </span>Row(userid=&apos;-7107297239143803917&apos;, events_count=108, avg_events_all=8.307692307692308)\n</div>"
      ]
     },
     "metadata": {},
     "output_type": "execute_result"
    }
   ],
   "source": [
    "df_avg_events = calculate_crude_avg_events_per_day(exclude_events=None, df=df2, outcol='avg_events_all', uid_col='userid',numdays=13)"
   ]
  },
  {
   "cell_type": "markdown",
   "metadata": {},
   "source": [
    "#### Now lets see overral daily average number of events for all users"
   ]
  },
  {
   "cell_type": "code",
   "execution_count": 23,
   "metadata": {},
   "outputs": [
    {
     "data": {
      "text/html": [
       "<style scoped>\n  .ansiout {\n    display: block;\n    unicode-bidi: embed;\n    white-space: pre-wrap;\n    word-wrap: break-word;\n    word-break: break-all;\n    font-family: \"Source Code Pro\", \"Menlo\", monospace;;\n    font-size: 13px;\n    color: #555;\n    margin-left: 4px;\n    line-height: 19px;\n  }\n</style>\n<div class=\"ansiout\"></div>"
      ]
     },
     "metadata": {},
     "output_type": "execute_result"
    }
   ],
   "source": [
    "# First, I would rather deal with a pandas datraframe for this\n",
    "df_avg = df_avg_events.toPandas()"
   ]
  },
  {
   "cell_type": "code",
   "execution_count": 24,
   "metadata": {},
   "outputs": [
    {
     "data": {
      "text/html": [
       "<style scoped>\n  .ansiout {\n    display: block;\n    unicode-bidi: embed;\n    white-space: pre-wrap;\n    word-wrap: break-word;\n    word-break: break-all;\n    font-family: \"Source Code Pro\", \"Menlo\", monospace;;\n    font-size: 13px;\n    color: #555;\n    margin-left: 4px;\n    line-height: 19px;\n  }\n</style>\n<div class=\"ansiout\">====================================================================================================\nWhen all categories of events are considered, the average number of events per day for each user is 8\n====================================================================================================\n</div>"
      ]
     },
     "metadata": {},
     "output_type": "execute_result"
    }
   ],
   "source": [
    "print('='*100)\n",
    "print ('When all categories of events are considered, the average number of events per day for each user is {}'.format(int(df_avg.avg_events_all.mean())))\n",
    "print('='*100)"
   ]
  },
  {
   "cell_type": "code",
   "execution_count": 25,
   "metadata": {},
   "outputs": [],
   "source": [
    ""
   ]
  }
 ],
 "metadata": {
  "kernelspec": {
   "display_name": "Python 3",
   "language": "python",
   "name": "python3"
  },
  "language_info": {
   "mimetype": "text/x-python",
   "name": "python",
   "pygments_lexer": "ipython3",
   "codemirror_mode": {
    "name": "ipython",
    "version": 3
   },
   "version": "3.6.5",
   "nbconvert_exporter": "python",
   "file_extension": ".py"
  },
  "name": "events_per_userday",
  "notebookId": 4.211111991796482E15
 },
 "nbformat": 4,
 "nbformat_minor": 0
}
