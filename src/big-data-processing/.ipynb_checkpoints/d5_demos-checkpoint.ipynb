{
 "cells": [
  {
   "cell_type": "code",
   "execution_count": 1,
   "metadata": {},
   "outputs": [],
   "source": [
    "import os\n",
    "import random\n",
    "from datetime import datetime\n",
    "import pandas as pd\n",
    "from pyspark.sql import SparkSession\n",
    "from pyspark.sql.functions import col, udf\n",
    "from pyspark.sql.types import DateType, TimestampType, IntegerType\n",
    "import seaborn as sns\n",
    "import d5_solutions as sol"
   ]
  },
  {
   "cell_type": "code",
   "execution_count": 4,
   "metadata": {},
   "outputs": [],
   "source": [
    "dataFolder = '../../day5-case-studies/cdrs-test/'\n",
    "users = '../../day5-case-studies/test.csv'"
   ]
  },
  {
   "cell_type": "code",
   "execution_count": 5,
   "metadata": {
    "scrolled": true
   },
   "outputs": [],
   "source": [
    "dfs = sol.preprocess_cdrs_using_spark(file_or_folder=dataFolder, number_of_users_to_sample=100, \n",
    "                                  date_format='%Y%m%d%H%M%S', \n",
    "                                  loc_file='../../day5-case-studies/cellTowers/staggered-cell-locs.csv',\n",
    "                                 save_to_csv=False, debug_mode=False)"
   ]
  },
  {
   "cell_type": "code",
   "execution_count": 6,
   "metadata": {},
   "outputs": [],
   "source": [
    "pdf = dfs.toPandas()"
   ]
  },
  {
   "cell_type": "code",
   "execution_count": 7,
   "metadata": {
    "scrolled": false
   },
   "outputs": [
    {
     "name": "stderr",
     "output_type": "stream",
     "text": [
      "/Users/dmatekenya/Google-Drive/gigs/aims-dakar-2019/src/mobile_data/d5_solutions.py:392: SettingWithCopyWarning: \n",
      "A value is trying to be set on a copy of a slice from a DataFrame.\n",
      "Try using .loc[row_indexer,col_indexer] = value instead\n",
      "\n",
      "See the caveats in the documentation: http://pandas.pydata.org/pandas-docs/stable/indexing.html#indexing-view-versus-copy\n",
      "  df_unique_locs[y] = df[y].astype('float64')\n",
      "/Users/dmatekenya/Google-Drive/gigs/aims-dakar-2019/src/mobile_data/d5_solutions.py:393: SettingWithCopyWarning: \n",
      "A value is trying to be set on a copy of a slice from a DataFrame.\n",
      "Try using .loc[row_indexer,col_indexer] = value instead\n",
      "\n",
      "See the caveats in the documentation: http://pandas.pydata.org/pandas-docs/stable/indexing.html#indexing-view-versus-copy\n",
      "  df_unique_locs[x] = df[y].astype('float64')\n",
      "/Users/dmatekenya/Google-Drive/gigs/aims-dakar-2019/src/mobile_data/d5_solutions.py:325: SettingWithCopyWarning: \n",
      "A value is trying to be set on a copy of a slice from a DataFrame\n",
      "\n",
      "See the caveats in the documentation: http://pandas.pydata.org/pandas-docs/stable/indexing.html#indexing-view-versus-copy\n",
      "  loc_history.sort_values(by=time_col, ascending=True, inplace=True)\n"
     ]
    }
   ],
   "source": [
    "df = sol.generate_user_attributes_with_pandas(df_all_users=pdf, num_of_users=10, out_csv=users)"
   ]
  },
  {
   "cell_type": "code",
   "execution_count": 8,
   "metadata": {},
   "outputs": [
    {
     "data": {
      "text/html": [
       "<div>\n",
       "<style scoped>\n",
       "    .dataframe tbody tr th:only-of-type {\n",
       "        vertical-align: middle;\n",
       "    }\n",
       "\n",
       "    .dataframe tbody tr th {\n",
       "        vertical-align: top;\n",
       "    }\n",
       "\n",
       "    .dataframe thead th {\n",
       "        text-align: right;\n",
       "    }\n",
       "</style>\n",
       "<table border=\"1\" class=\"dataframe\">\n",
       "  <thead>\n",
       "    <tr style=\"text-align: right;\">\n",
       "      <th></th>\n",
       "      <th>avgFarthestDistance</th>\n",
       "      <th>avgUniqLocsPerday</th>\n",
       "      <th>medianFarthestDistance</th>\n",
       "      <th>medianUniqLocsPerday</th>\n",
       "      <th>totalUniqLocations</th>\n",
       "      <th>tripDays</th>\n",
       "      <th>usageDays</th>\n",
       "      <th>userId</th>\n",
       "    </tr>\n",
       "  </thead>\n",
       "  <tbody>\n",
       "    <tr>\n",
       "      <th>0</th>\n",
       "      <td>0.000000</td>\n",
       "      <td>1.0</td>\n",
       "      <td>0.000000</td>\n",
       "      <td>1.0</td>\n",
       "      <td>1</td>\n",
       "      <td>0</td>\n",
       "      <td>1</td>\n",
       "      <td>3418443746244270296</td>\n",
       "    </tr>\n",
       "    <tr>\n",
       "      <th>1</th>\n",
       "      <td>2.047315</td>\n",
       "      <td>3.0</td>\n",
       "      <td>2.047315</td>\n",
       "      <td>3.0</td>\n",
       "      <td>3</td>\n",
       "      <td>1</td>\n",
       "      <td>1</td>\n",
       "      <td>7033265067658823748</td>\n",
       "    </tr>\n",
       "    <tr>\n",
       "      <th>2</th>\n",
       "      <td>25.610124</td>\n",
       "      <td>2.5</td>\n",
       "      <td>25.610124</td>\n",
       "      <td>2.5</td>\n",
       "      <td>3</td>\n",
       "      <td>2</td>\n",
       "      <td>2</td>\n",
       "      <td>3618489480859212882</td>\n",
       "    </tr>\n",
       "    <tr>\n",
       "      <th>3</th>\n",
       "      <td>0.000000</td>\n",
       "      <td>1.0</td>\n",
       "      <td>0.000000</td>\n",
       "      <td>1.0</td>\n",
       "      <td>1</td>\n",
       "      <td>0</td>\n",
       "      <td>2</td>\n",
       "      <td>8415023035109040591</td>\n",
       "    </tr>\n",
       "    <tr>\n",
       "      <th>4</th>\n",
       "      <td>3.502829</td>\n",
       "      <td>1.5</td>\n",
       "      <td>3.502829</td>\n",
       "      <td>1.5</td>\n",
       "      <td>2</td>\n",
       "      <td>1</td>\n",
       "      <td>2</td>\n",
       "      <td>3082830966463790611</td>\n",
       "    </tr>\n",
       "  </tbody>\n",
       "</table>\n",
       "</div>"
      ],
      "text/plain": [
       "   avgFarthestDistance  avgUniqLocsPerday  medianFarthestDistance  \\\n",
       "0             0.000000                1.0                0.000000   \n",
       "1             2.047315                3.0                2.047315   \n",
       "2            25.610124                2.5               25.610124   \n",
       "3             0.000000                1.0                0.000000   \n",
       "4             3.502829                1.5                3.502829   \n",
       "\n",
       "   medianUniqLocsPerday  totalUniqLocations  tripDays  usageDays  \\\n",
       "0                   1.0                   1         0          1   \n",
       "1                   3.0                   3         1          1   \n",
       "2                   2.5                   3         2          2   \n",
       "3                   1.0                   1         0          2   \n",
       "4                   1.5                   2         1          2   \n",
       "\n",
       "                userId  \n",
       "0  3418443746244270296  \n",
       "1  7033265067658823748  \n",
       "2  3618489480859212882  \n",
       "3  8415023035109040591  \n",
       "4  3082830966463790611  "
      ]
     },
     "execution_count": 8,
     "metadata": {},
     "output_type": "execute_result"
    }
   ],
   "source": [
    "df.head()"
   ]
  },
  {
   "cell_type": "code",
   "execution_count": null,
   "metadata": {},
   "outputs": [],
   "source": []
  }
 ],
 "metadata": {
  "kernelspec": {
   "display_name": "Python 3",
   "language": "python",
   "name": "python3"
  },
  "language_info": {
   "codemirror_mode": {
    "name": "ipython",
    "version": 3
   },
   "file_extension": ".py",
   "mimetype": "text/x-python",
   "name": "python",
   "nbconvert_exporter": "python",
   "pygments_lexer": "ipython3",
   "version": "3.6.5"
  },
  "toc": {
   "base_numbering": 1,
   "nav_menu": {},
   "number_sections": true,
   "sideBar": true,
   "skip_h1_title": false,
   "title_cell": "Table of Contents",
   "title_sidebar": "Contents",
   "toc_cell": false,
   "toc_position": {},
   "toc_section_display": true,
   "toc_window_display": false
  }
 },
 "nbformat": 4,
 "nbformat_minor": 2
}
